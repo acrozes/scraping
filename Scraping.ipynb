{
 "cells": [
  {
   "cell_type": "markdown",
   "metadata": {},
   "source": [
    "# Study cityjet scraping\n",
    "## Install\n",
    "1) Chromedriver\n",
    "\n",
    "2) > pip install splinter pandas"
   ]
  },
  {
   "cell_type": "code",
   "execution_count": 141,
   "metadata": {},
   "outputs": [
    {
     "name": "stdout",
     "output_type": "stream",
     "text": [
      "London Amsterdam 12/07/2018 20/07/2018\n"
     ]
    }
   ],
   "source": [
    "from splinter import Browser\n",
    "from selenium import webdriver\n",
    "import pandas as pd\n",
    "from datetime import datetime as DateTime, timedelta as TimeDelta\n",
    "import time\n",
    "import random\n",
    "import os\n",
    "\n",
    "# params\n",
    "\n",
    "flight_from = 'London'\n",
    "flight_to = 'Amsterdam'\n",
    "date_from = (DateTime.today() + TimeDelta(days=17)).strftime('%d/%m/%Y')\n",
    "date_to = (DateTime.today() + TimeDelta(days=25)).strftime('%d/%m/%Y')\n",
    "delayed = 0\n",
    "scrapedCsv = \"Study_scraped_file.csv\"\n",
    "\n",
    "print(flight_from, flight_to, date_from, date_to)\n",
    "\n",
    "# clean targeted csv\n",
    "if os.path.isfile(scrapedCsv):\n",
    "    os.remove(scrapedCsv)\n"
   ]
  },
  {
   "cell_type": "code",
   "execution_count": 142,
   "metadata": {},
   "outputs": [],
   "source": [
    "# open a browser\n",
    "\n",
    "# From http://www.xroxy.com/\n",
    "#PROXY = \"66.70.147.196:3128\"\n",
    "#PROXY = \"178.32.181.66:3128\"\n",
    "PROXY = \"142.4.209.32:3128\"\n",
    "\n",
    "chrome_options = webdriver.ChromeOptions()\n",
    "chrome_options.add_argument('--proxy-server=%s' % PROXY)\n",
    "\n",
    "browser = Browser('chrome', options=chrome_options)\n",
    "browser.driver.set_window_size(800, 600)"
   ]
  },
  {
   "cell_type": "code",
   "execution_count": 143,
   "metadata": {},
   "outputs": [],
   "source": [
    "browser.visit('https://www.cityjet.com/')\n",
    "\n",
    "time.sleep(delayed*(1+random.random()))  "
   ]
  },
  {
   "cell_type": "markdown",
   "metadata": {},
   "source": [
    "## Fill Form Search"
   ]
  },
  {
   "cell_type": "code",
   "execution_count": 144,
   "metadata": {},
   "outputs": [],
   "source": [
    "from_bar_xpath = '//*[@id=\"book-flight\"]/fieldset[2]/div[1]/div[1]/div/input'\n",
    "search_bar = browser.find_by_xpath(from_bar_xpath)\n",
    "search_bar.fill(flight_from)\n",
    "\n",
    "from_bar_xpath = '//*[@id=\"book-flight\"]/fieldset[2]/div[1]/div[1]/div/div[2]/ul/li'\n",
    "search_bar = browser.find_by_xpath(from_bar_xpath)\n",
    "search_bar.click()\n",
    "\n",
    "time.sleep(delayed*(1+random.random()))  "
   ]
  },
  {
   "cell_type": "code",
   "execution_count": 145,
   "metadata": {},
   "outputs": [],
   "source": [
    "to_bar_xpath = '//*[@id=\"book-flight\"]/fieldset[2]/div[1]/div[2]/div/input'\n",
    "search_bar = browser.find_by_xpath(to_bar_xpath)\n",
    "search_bar.fill(flight_to)\n",
    "\n",
    "to_bar_xpath = '//*[@id=\"book-flight\"]/fieldset[2]/div[1]/div[2]/div/div[2]/ul/li'\n",
    "search_bar = browser.find_by_xpath(to_bar_xpath)\n",
    "search_bar.click()\n",
    "\n",
    "time.sleep(delayed*(1+random.random()))  "
   ]
  },
  {
   "cell_type": "code",
   "execution_count": 146,
   "metadata": {},
   "outputs": [],
   "source": [
    "date_from_bar_xpath = '//*[@id=\"book-flight\"]/fieldset[2]/div[2]/div[1]/input'\n",
    "search_bar = browser.find_by_xpath(date_from_bar_xpath)\n",
    "search_bar.fill(date_from)\n",
    "\n",
    "time.sleep(delayed*(1+random.random()))  "
   ]
  },
  {
   "cell_type": "code",
   "execution_count": 147,
   "metadata": {},
   "outputs": [],
   "source": [
    "date_to_bar_xpath = '//*[@id=\"book-flight\"]/fieldset[2]/div[2]/div[2]/input'\n",
    "search_bar = browser.find_by_xpath(date_to_bar_xpath)\n",
    "search_bar.fill(date_to)\n",
    "\n",
    "time.sleep(delayed*(1+random.random()))  "
   ]
  },
  {
   "cell_type": "code",
   "execution_count": 148,
   "metadata": {},
   "outputs": [],
   "source": [
    "select_bar_xpath = '//*[@id=\"book-flight\"]/fieldset[4]/div[1]/select/option[1]'\n",
    "search_bar = browser.find_by_xpath(select_bar_xpath)\n",
    "search_bar.click()\n",
    "\n",
    "time.sleep(delayed*(1+random.random()))  "
   ]
  },
  {
   "cell_type": "code",
   "execution_count": 149,
   "metadata": {},
   "outputs": [],
   "source": [
    "search_button_xpath = '//*[@id=\"book-flight\"]/div[1]/a' \n",
    "search_button = browser.find_by_xpath(search_button_xpath)\n",
    "search_button.click()\n",
    "\n",
    "time.sleep(delayed*(1+random.random()))  "
   ]
  },
  {
   "cell_type": "markdown",
   "metadata": {},
   "source": [
    "## Search Page Result"
   ]
  },
  {
   "cell_type": "code",
   "execution_count": 150,
   "metadata": {},
   "outputs": [
    {
     "name": "stdout",
     "output_type": "stream",
     "text": [
      "About Us\n",
      "https://www.cityjet.com/about/\n"
     ]
    }
   ],
   "source": [
    "search_results_xpath = '//*[@id=\"footer-outer\"]/div/div[3]/div[2]/div[1]/div[1]/div[1]/ul/li[1]/a' \n",
    "search_results = browser.find_by_xpath(search_results_xpath)\n",
    "print(search_results.value)\n",
    "print(search_results['href'])"
   ]
  },
  {
   "cell_type": "code",
   "execution_count": 153,
   "metadata": {},
   "outputs": [
    {
     "name": "stdout",
     "output_type": "stream",
     "text": [
      "[OUTBOUND: LONDON » AMSTERDAM]\n",
      "Flight:  0\n",
      "Flight:  1\n",
      "Block1:  0\n",
      "Detail1:  0 Departs 07:45\n",
      "Detail1:  1 Arrives 10:00\n",
      "Detail1:  2 Duration 1:15\n",
      "Detail1:  3 Stop(s) 0\n",
      "Detail1:  4 Flight WX6082\n",
      "Detail All Prices:  0 £119.12\n",
      "Detail All Prices:  1 £201.12\n",
      "Detail All Prices:  2 £307.12\n",
      "Block2:  0\n",
      "Detail CityValue:  0 £119.12\n",
      "Flight:  2\n",
      "Block1:  0\n",
      "Detail1:  0 Departs 09:20\n",
      "Detail1:  1 Arrives 11:30\n",
      "Detail1:  2 Duration 1:10\n",
      "Detail1:  3 Stop(s) 0\n",
      "Detail1:  4 Flight WX6086\n",
      "Detail All Prices:  0 £119.12\n",
      "Detail All Prices:  1 £201.12\n",
      "Detail All Prices:  2 £307.12\n",
      "Block2:  0\n",
      "Detail CityValue:  0 £119.12\n",
      "Flight:  3\n",
      "Block1:  0\n",
      "Detail1:  0 Departs 19:05\n",
      "Detail1:  1 Arrives 21:15\n",
      "Detail1:  2 Duration 1:10\n",
      "Detail1:  3 Stop(s) 0\n",
      "Detail1:  4 Flight WX6094\n",
      "Detail All Prices:  0 £264.12\n",
      "Detail All Prices:  1 \n",
      "Detail All Prices:  2 £307.12\n",
      "Block2:  0\n",
      "Detail CityValue:  0 £264.12\n",
      "Flight:  4\n",
      "Block1:  0\n",
      "Detail1:  0 Departs 20:05\n",
      "Detail1:  1 Arrives 22:20\n",
      "Detail1:  2 Duration 1:15\n",
      "Detail1:  3 Stop(s) 0\n",
      "Detail1:  4 Flight WX6098\n",
      "Detail All Prices:  0 £144.12\n",
      "Detail All Prices:  1 £201.12\n",
      "Detail All Prices:  2 £307.12\n",
      "Block2:  0\n",
      "Detail CityValue:  0 £144.12\n"
     ]
    }
   ],
   "source": [
    "scraped_data = []\n",
    "\n",
    "with browser.get_iframe('pass-data-iframe') as iframe:\n",
    "\n",
    "    # for OUTBOUND\n",
    "    \n",
    "    xflights = '//*[@id=\"fpow_avail_tb1\"]/tbody/tr' \n",
    "    flights = iframe.find_by_xpath(xflights)\n",
    "    \n",
    "    xdest = '//*[@id=\"si_outbound\"]/p[1]'\n",
    "    dest = flights.find_by_xpath(xdest)\n",
    "    print(\"[{}]\".format(dest.value))\n",
    "\n",
    "    for flightIdx, flight in enumerate(flights):\n",
    "        print(\"Flight: \", flightIdx)\n",
    "        blocks = flight.find_by_css('td[class=\"ff_bgrd1\"]')\n",
    "        scraped_detail = [\"From \" + flight_from, \"To \" + flight_to, \"Date \" + date_from]\n",
    "        for blockIdx, block in enumerate(blocks):\n",
    "            print(\"Block1: \", blockIdx)\n",
    "         \n",
    "            xdetails = 'td[class=\"label\"]'\n",
    "            details = block.find_by_css(xdetails)\n",
    "            for detailIdx, detail in enumerate(details):\n",
    "                print(\"Detail1: \", detailIdx, detail.value.replace('\\n', ' '))\n",
    "                scraped_detail.append(detail.value.replace('\\n', ' '))\n",
    "                \n",
    "        xdetails = 'span[class=\"nowrap fpow_span_price\"]'\n",
    "        details = flight.find_by_css(xdetails)\n",
    "        scraped_prices = []\n",
    "        for detailIdx, detail in enumerate(details):\n",
    "            print(\"Detail All Prices: \", detailIdx, detail.value)   \n",
    "            scraped_prices.append(detail.value)\n",
    "                \n",
    "        blocks = flight.find_by_css('td[class=\"ff_bgrd2 fpow_bgrd2 VALUE\"]')\n",
    "        scraped_price_value = ''\n",
    "        for blockIdx, block in enumerate(blocks):\n",
    "            print(\"Block2: \", blockIdx)\n",
    "          \n",
    "            xdetails = 'span[class=\"nowrap fpow_span_price\"]'\n",
    "            details = block.find_by_css(xdetails)\n",
    "            for detailIdx, detail in enumerate(details):\n",
    "                print(\"Detail CityValue: \", detailIdx, detail.value)    \n",
    "                scraped_price_value = detail.value\n",
    "          \n",
    "        # create function VALUE for other prices ...\n",
    "        # clean, format, check error on data\n",
    "        \n",
    "        if scraped_detail and scraped_prices:\n",
    "            scraped_data.append((dest.value, scraped_detail, scraped_prices, scraped_price_value)) \n",
    "        \n",
    "                \n",
    "                "
   ]
  },
  {
   "cell_type": "code",
   "execution_count": 154,
   "metadata": {},
   "outputs": [
    {
     "name": "stdout",
     "output_type": "stream",
     "text": [
      "[('OUTBOUND: LONDON » AMSTERDAM', ['From London', 'To Amsterdam', 'Date 12/07/2018', 'Departs 07:45', 'Arrives 10:00', 'Duration 1:15', 'Stop(s) 0', 'Flight WX6082'], ['£119.12', '£201.12', '£307.12'], '£119.12'), ('OUTBOUND: LONDON » AMSTERDAM', ['From London', 'To Amsterdam', 'Date 12/07/2018', 'Departs 09:20', 'Arrives 11:30', 'Duration 1:10', 'Stop(s) 0', 'Flight WX6086'], ['£119.12', '£201.12', '£307.12'], '£119.12'), ('OUTBOUND: LONDON » AMSTERDAM', ['From London', 'To Amsterdam', 'Date 12/07/2018', 'Departs 19:05', 'Arrives 21:15', 'Duration 1:10', 'Stop(s) 0', 'Flight WX6094'], ['£264.12', '', '£307.12'], '£264.12'), ('OUTBOUND: LONDON » AMSTERDAM', ['From London', 'To Amsterdam', 'Date 12/07/2018', 'Departs 20:05', 'Arrives 22:20', 'Duration 1:15', 'Stop(s) 0', 'Flight WX6098'], ['£144.12', '£201.12', '£307.12'], '£144.12')]\n"
     ]
    }
   ],
   "source": [
    "print(scraped_data)"
   ]
  },
  {
   "cell_type": "code",
   "execution_count": 155,
   "metadata": {},
   "outputs": [
    {
     "name": "stdout",
     "output_type": "stream",
     "text": [
      "                          Title  \\\n",
      "0  OUTBOUND: LONDON » AMSTERDAM   \n",
      "1  OUTBOUND: LONDON » AMSTERDAM   \n",
      "2  OUTBOUND: LONDON » AMSTERDAM   \n",
      "3  OUTBOUND: LONDON » AMSTERDAM   \n",
      "\n",
      "                                             Details  \\\n",
      "0  [From London, To Amsterdam, Date 12/07/2018, D...   \n",
      "1  [From London, To Amsterdam, Date 12/07/2018, D...   \n",
      "2  [From London, To Amsterdam, Date 12/07/2018, D...   \n",
      "3  [From London, To Amsterdam, Date 12/07/2018, D...   \n",
      "\n",
      "                    All prices CityValue  \n",
      "0  [£119.12, £201.12, £307.12]   £119.12  \n",
      "1  [£119.12, £201.12, £307.12]   £119.12  \n",
      "2         [£264.12, , £307.12]   £264.12  \n",
      "3  [£144.12, £201.12, £307.12]   £144.12  \n"
     ]
    }
   ],
   "source": [
    "df = pd.DataFrame(data=scraped_data, columns=[\"Title\", \"Details\", \"All prices\", \"CityValue\"]) \n",
    "\n",
    "if not os.path.isfile(scrapedCsv):\n",
    "    df.to_csv(scrapedCsv)\n",
    "else:\n",
    "    df.to_csv(scrapedCsv, mode='a', index=False, header=False)\n",
    "    \n",
    "print(df)"
   ]
  },
  {
   "cell_type": "code",
   "execution_count": 156,
   "metadata": {},
   "outputs": [],
   "source": [
    "browser.quit()"
   ]
  },
  {
   "cell_type": "code",
   "execution_count": null,
   "metadata": {},
   "outputs": [],
   "source": []
  },
  {
   "cell_type": "code",
   "execution_count": null,
   "metadata": {},
   "outputs": [],
   "source": []
  },
  {
   "cell_type": "code",
   "execution_count": null,
   "metadata": {},
   "outputs": [],
   "source": []
  }
 ],
 "metadata": {
  "kernelspec": {
   "display_name": "Python 3",
   "language": "python",
   "name": "python3"
  },
  "language_info": {
   "codemirror_mode": {
    "name": "ipython",
    "version": 3
   },
   "file_extension": ".py",
   "mimetype": "text/x-python",
   "name": "python",
   "nbconvert_exporter": "python",
   "pygments_lexer": "ipython3",
   "version": "3.6.5"
  }
 },
 "nbformat": 4,
 "nbformat_minor": 2
}
